{
  "nbformat": 4,
  "nbformat_minor": 0,
  "metadata": {
    "colab": {
      "name": "Ganesh_Kumaran_Masilamani_(200434339)1-3.ipynb",
      "provenance": [],
      "collapsed_sections": []
    },
    "kernelspec": {
      "display_name": "Python 3",
      "language": "python",
      "name": "python3"
    },
    "language_info": {
      "codemirror_mode": {
        "name": "ipython",
        "version": 3
      },
      "file_extension": ".py",
      "mimetype": "text/x-python",
      "name": "python",
      "nbconvert_exporter": "python",
      "pygments_lexer": "ipython3",
      "version": "3.6.8"
    }
  },
  "cells": [
    {
      "cell_type": "code",
      "metadata": {
        "id": "HA6E0m2DbVqY",
        "outputId": "348907fc-4561-47b5-d585-07b762bbd9ae",
        "colab": {
          "base_uri": "https://localhost:8080/",
          "height": 51
        }
      },
      "source": [
        "#List of Libraries Imported\n",
        "import csv                               \n",
        "from sklearn.svm import LinearSVC\n",
        "from nltk.classify import SklearnClassifier\n",
        "from random import shuffle\n",
        "#machine learning library for support vector machine\n",
        "from sklearn.pipeline import Pipeline                         #used for training and validating the classifier\n",
        "from nltk.tokenize import wordpunct_tokenize                  #used for tokenisation\n",
        "import nltk\n",
        "nltk.download('punkt')\n",
        "import numpy as np\n",
        "from sklearn.metrics import accuracy_score                    #used to find accuracy\n",
        "from sklearn.metrics import precision_recall_fscore_support   #used to find precision, recall, fscore"
      ],
      "execution_count": 1,
      "outputs": [
        {
          "output_type": "stream",
          "text": [
            "[nltk_data] Downloading package punkt to /root/nltk_data...\n",
            "[nltk_data]   Unzipping tokenizers/punkt.zip.\n"
          ],
          "name": "stdout"
        }
      ]
    },
    {
      "cell_type": "code",
      "metadata": {
        "id": "oY39UjOdbVqm"
      },
      "source": [
        "# load data from the file and append to the rawData\n",
        "def loadData(path, Text=None):\n",
        "    with open(path) as f:\n",
        "        reader = csv.reader(f, delimiter='\\t')\n",
        "        for line in reader:\n",
        "            if line[0] == \"DOC_ID\":  # skip the header\n",
        "                continue\n",
        "            (Id, Text, Label) = parseReview(line)\n",
        "            rawData.append((Id, Text, Label))\n",
        "           \n",
        "def splitData(percentage):\n",
        "    # A method to split the data between trainData and testData \n",
        "    dataSamples = len(rawData)\n",
        "    #to find half of data\n",
        "    halfOfData = int(len(rawData)/2)\n",
        "    #to find training samples\n",
        "    trainingSamples = int((percentage*dataSamples)/2)\n",
        "    #splitting of trainData\n",
        "    for (_, Text, Label) in rawData[:trainingSamples] + rawData[halfOfData:halfOfData+trainingSamples]:\n",
        "        trainData.append((toFeatureVector(preProcess(Text)),Label))\n",
        "    #splitting of testData   \n",
        "    for (_, Text, Label) in rawData[trainingSamples:halfOfData] + rawData[halfOfData+trainingSamples:]:\n",
        "        testData.append((toFeatureVector(preProcess(Text)),Label))"
      ],
      "execution_count": 2,
      "outputs": []
    },
    {
      "cell_type": "markdown",
      "metadata": {
        "id": "B-cWiIVqbVqz"
      },
      "source": [
        "# Question 1"
      ]
    },
    {
      "cell_type": "code",
      "metadata": {
        "id": "MkGLhhDybVq0"
      },
      "source": [
        "# Convert line from i/p file into an id/text/label \n",
        "def parseReview(reviewLine):\n",
        "    a='' #test case contains a single string a\n",
        "    if reviewLine[1]=='__label1__': #assigning a label to reviewline\n",
        "        a = 'fake review' #characters of the string\n",
        "    else: \n",
        "         'real review'    #characters of the string\n",
        "    # return a triple containing the identifier of the review (review text, label)     \n",
        "    return (reviewLine[0], reviewLine[8], a) #(Id, Text, Label)"
      ],
      "execution_count": 3,
      "outputs": []
    },
    {
      "cell_type": "code",
      "metadata": {
        "id": "gH78LZytbVq_"
      },
      "source": [
        "#Text preprocessing and feature vectorization\n",
        "#a string of review text which is the input\n",
        "def preProcess(text):\n",
        "    # preProcess function which turns review text into a list of tokens (using tokenisation)\n",
        "    return wordpunct_tokenize(text)"
      ],
      "execution_count": 4,
      "outputs": []
    },
    {
      "cell_type": "markdown",
      "metadata": {
        "id": "WkRLtSMpbVrE"
      },
      "source": [
        "# Question 2"
      ]
    },
    {
      "cell_type": "code",
      "metadata": {
        "id": "SXhQOSnCbVrH"
      },
      "source": [
        "featureDict = {} # A global dict of features\n",
        "#preprocessed review should return a dictionary that has as its keys the tokens, and as values the weight of those tokens in the preprocessed reviews\n",
        "#used to validate for loop, for every token\n",
        "#validate if it is present already in featuredict or dict\n",
        "def toFeatureVector(tokens):\n",
        "    Dict = {}\n",
        "    for token in tokens:\n",
        "        try:\n",
        "          i= featureDict[token]\n",
        "        except KeyError:\n",
        "          i = len(featureDict) + 1\n",
        "          featureDict[token] = i\n",
        "        try:  \n",
        "           Dict[i] += (1.0/len(tokens))\n",
        "        except KeyError:\n",
        "           Dict[i] = (1.0/len(tokens))        \n",
        "    return Dict"
      ],
      "execution_count": 5,
      "outputs": []
    },
    {
      "cell_type": "code",
      "metadata": {
        "id": "Y5clrpX7bVrL"
      },
      "source": [
        "# Training and validation of the classifier\n",
        "def trainClassifier(trainData):\n",
        "    print(\"Training Classifier...\")\n",
        "    pipeline =  Pipeline([('svc', LinearSVC())])\n",
        "    return SklearnClassifier(pipeline).train(trainData)"
      ],
      "execution_count": 6,
      "outputs": []
    },
    {
      "cell_type": "markdown",
      "metadata": {
        "id": "DN2c9NjFbVrP"
      },
      "source": [
        "# Question 3"
      ]
    },
    {
      "cell_type": "code",
      "metadata": {
        "id": "rTx0ox2sbVrQ"
      },
      "source": [
        "# QUESTION 3\n",
        "#cross validation is done to predict accuracy, precision, recall, fscore\n",
        "#train a classifier to do a 10-fold cross validation on the training data\n",
        "def crossValidate(dataset, folds):\n",
        "    #data set which is sorted based on their class\n",
        "    shuffle(dataset)\n",
        "    cv_results = []\n",
        "    foldSize = int(len(dataset)/folds)\n",
        "    for i in range(0,len(dataset),foldSize):\n",
        "        classifier = trainClassifier(dataset[:i]+dataset[foldSize+i:])\n",
        "        y_pred = predictLabels(dataset[i:i+foldSize],classifier)\n",
        "        #formulae to predict accuracy\n",
        "        a = accuracy_score(list(map(lambda d : d[1], dataset[i:i+foldSize])), y_pred)\n",
        "        #formulae to predict precision, recall, fscore\n",
        "        (p,r,f,_) = precision_recall_fscore_support(list(map(lambda d : d[1], dataset[i:i+foldSize])), y_pred, average ='weighted')\n",
        "        #print(a,p,r,f)\n",
        "        #stores the precision, recall, f1 score, and accuracy of the classifier in a variable cv_results\n",
        "        cv_results.append((a,p,r,f))\n",
        "    cv_results = (np.mean(np.array(cv_results),axis=0))\n",
        "    return cv_results"
      ],
      "execution_count": 7,
      "outputs": []
    },
    {
      "cell_type": "code",
      "metadata": {
        "id": "8s92zE2ebVrT"
      },
      "source": [
        "# Predicting labels of the classifier\n",
        "\n",
        "def predictLabels(reviewSamples, classifier):\n",
        "    return classifier.classify_many(map(lambda t: t[0], reviewSamples))\n",
        "\n",
        "def predictLabel(reviewSample, classifier):\n",
        "    return classifier.classify(toFeatureVector(preProcess(reviewSample)))"
      ],
      "execution_count": 8,
      "outputs": []
    },
    {
      "cell_type": "code",
      "metadata": {
        "id": "1TphINw_bVrW",
        "outputId": "0375a27d-02b2-485b-ec5c-26534cccd7ad",
        "colab": {
          "base_uri": "https://localhost:8080/",
          "height": 357
        }
      },
      "source": [
        "# MAIN\n",
        "\n",
        "# loading reviews from the file\n",
        "# initialize global lists that will be appended to by the methods below\n",
        "rawData = []          # the filtered data from the dataset file (21000 samples)\n",
        "trainData = []        # the pre-processed training data as a percentage of the total dataset ( 80% or 16800 samples)\n",
        "testData = []         # the pre-processed test data as a percentage of the total dataset (20% or 4200 samples)\n",
        "\n",
        "# the o/p class\n",
        "fakeLabel = 'fake review'\n",
        "realLabel = 'real review'\n",
        "\n",
        "# references to the data files\n",
        "reviewPath = 'amazon_reviews.txt'\n",
        "\n",
        "# Do the actual stuff (i.e. call the functions we've made)\n",
        "# We parse the dataset and put it in a raw data list\n",
        "print(\"Now %d rawData, %d trainData, %d testData\" % (len(rawData), len(trainData), len(testData)),\n",
        "      \"Preparing the dataset...\",sep='\\n')\n",
        "loadData(reviewPath) \n",
        "\n",
        "# We split the raw dataset into a set of training data and test data (80/20)\n",
        "# You do the cross validation on the 80% (training data)\n",
        "# We print the number of training samples and the number of features before the split\n",
        "print(\"Now %d rawData, %d trainData, %d testData\" % (len(rawData), len(trainData), len(testData)),\n",
        "      \"Preparing training and test data...\",sep='\\n')\n",
        "splitData(0.8)\n",
        "# We print the number of training samples and the number of features in dataset after split\n",
        "print(\"After split, %d rawData, %d trainData, %d testData\" % (len(rawData), len(trainData), len(testData)),\n",
        "      \"Training Samples: \", len(trainData), \"Features: \", len(featureDict), sep='\\n')\n",
        "\n",
        "# QUESTION 3 - Make sure there is a function call here to the\n",
        "# crossValidate function on the training set to get your results\n",
        "#10-fold cross validation on the training data\n",
        "print(\"Mean of cross-validations (Accuracy, Precision, Recall, F1 score): \", crossValidate(trainData, 10))\n"
      ],
      "execution_count": 9,
      "outputs": [
        {
          "output_type": "stream",
          "text": [
            "Now 0 rawData, 0 trainData, 0 testData\n",
            "Preparing the dataset...\n",
            "Now 21000 rawData, 0 trainData, 0 testData\n",
            "Preparing training and test data...\n",
            "After split, 21000 rawData, 16800 trainData, 4200 testData\n",
            "Training Samples: \n",
            "16800\n",
            "Features: \n",
            "44726\n",
            "Training Classifier...\n",
            "Training Classifier...\n",
            "Training Classifier...\n",
            "Training Classifier...\n",
            "Training Classifier...\n",
            "Training Classifier...\n",
            "Training Classifier...\n",
            "Training Classifier...\n",
            "Training Classifier...\n",
            "Training Classifier...\n",
            "Mean of cross-validations (Accuracy, Precision, Recall, F1 score):  [0.65404762 0.65507682 0.65404762 0.65384116]\n"
          ],
          "name": "stdout"
        }
      ]
    },
    {
      "cell_type": "markdown",
      "metadata": {
        "id": "uJmyYWxCbVra"
      },
      "source": [
        "# Evaluate on test set"
      ]
    },
    {
      "cell_type": "code",
      "metadata": {
        "id": "MpqwVlmHbVrb",
        "outputId": "8bb6b0b2-df77-4b9f-ce77-88049f854e92",
        "colab": {
          "base_uri": "https://localhost:8080/",
          "height": 156
        }
      },
      "source": [
        "# testing on the test set\n",
        "functions_complete = True                           # set to True once you're happy with your methods for cross validation\n",
        "if functions_complete:\n",
        "    print(testData[0])                              # have a look at the first test data instance\n",
        "    classifier = trainClassifier(trainData)         \n",
        "    testTrue = [t[1] for t in testData]             # get the ground-truth labels from the data\n",
        "    testPred = predictLabels(testData, classifier)  # classify the test data to get predicted labels\n",
        "    a = accuracy_score(testTrue, testPred)          #evaluation of accuracy in test data\n",
        "    finalScores = precision_recall_fscore_support(testTrue, testPred, average='weighted') # evaluation of p,r,f in test data evaluate\n",
        "    print(\"Done training!\")\n",
        "    print(\"accuracy: \", a)                                            #print accuracy after evaluating on test set\n",
        "    print(\"Precision: %f\\nRecall: %f\\nF1 Score:%f\" % finalScores[:3]) #print p,r,f after evaluating on test set"
      ],
      "execution_count": 10,
      "outputs": [
        {
          "output_type": "stream",
          "text": [
            "({286: 0.04, 4488: 0.04, 34: 0.04, 218: 0.04, 22660: 0.04, 40: 0.04, 326: 0.04, 50: 0.04, 65: 0.04, 49: 0.04, 13: 0.08, 68: 0.04, 128: 0.04, 688: 0.04, 26: 0.04, 1611: 0.04, 1285: 0.04, 809: 0.04, 11: 0.04, 1829: 0.04, 1811: 0.04, 153: 0.04, 102: 0.04, 7: 0.04}, 'fake review')\n",
            "Training Classifier...\n",
            "Done training!\n",
            "accuracy:  0.6419047619047619\n",
            "Precision: 0.641913\n",
            "Recall: 0.641905\n",
            "F1 Score:0.641900\n"
          ],
          "name": "stdout"
        }
      ]
    }
  ]
}